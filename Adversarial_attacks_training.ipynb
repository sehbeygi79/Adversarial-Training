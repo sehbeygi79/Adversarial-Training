{
 "cells": [
  {
   "cell_type": "markdown",
   "metadata": {},
   "source": [
    "<center><h1>In the name of Allah</h1></center>"
   ]
  },
  {
   "cell_type": "markdown",
   "metadata": {},
   "source": [
    "Name: \n",
    "\n",
    "Student Number:"
   ]
  },
  {
   "cell_type": "markdown",
   "metadata": {},
   "source": [
    "In this notebook, you will explore adversarial attacks and training methods in deep learning. First, you will train a simple model, ResNet18, on the CIFAR-10 dataset. Next, you will learn about two different adversarial attacks: FGSM (Fast Gradient Sign Method) and PGD (Projected Gradient Descent). To enhance your understanding, you will implement the PGD attack from scratch, while the FGSM attack will be implemented using a library. After this, you will use the FGSM attack to generate adversarial examples and then perform adversarial training on the model using the CIFAR-10 dataset. Finally, you will compare the performance and robustness of the adversarially trained model with the original model. \n",
    "\n",
    "Good luck!"
   ]
  },
  {
   "cell_type": "markdown",
   "metadata": {},
   "source": [
    "## outline\n",
    "- Train Resnet on CIFAR10\n",
    "- FGSM Attack using torchattacks\n",
    "- PGD Attack from scratch\n",
    "- Visualization\n",
    "- Adversarial Training\n"
   ]
  },
  {
   "cell_type": "code",
   "execution_count": null,
   "metadata": {},
   "outputs": [],
   "source": [
    "import torch\n",
    "import torchvision\n",
    "import torchvision.transforms as transforms\n",
    "from torchvision.models import resnet18\n",
    "import torch.nn as nn\n",
    "import torch.nn.functional as F\n",
    "import torch.optim as optim\n",
    "import numpy as np\n",
    "from torch.autograd import Variable\n",
    "from tqdm import tqdm"
   ]
  },
  {
   "cell_type": "code",
   "execution_count": null,
   "metadata": {},
   "outputs": [],
   "source": [
    "device = 'cuda:0' if torch.cuda.is_available() else 'cpu'\n",
    "print(device)"
   ]
  },
  {
   "cell_type": "markdown",
   "metadata": {},
   "source": [
    "## Train Resnet on CIFAR10 (15 pts)"
   ]
  },
  {
   "cell_type": "code",
   "execution_count": null,
   "metadata": {},
   "outputs": [],
   "source": [
    "# Prepare Cifar10 data\n",
    "batch_size = 128\n",
    "transform = transforms.Compose([transforms.ToTensor(),])\n",
    "\n",
    "##############################################################################\n",
    "# Prepare training and test datasets and dataloaders                         #\n",
    "##############################################################################\n",
    "trainset = None\n",
    "trainloader = None\n",
    "testset = None\n",
    "testloader = None\n",
    "################################ End #########################################\n",
    "\n",
    "classes = ('plane', 'car', 'bird', 'cat', 'deer', 'dog', 'frog', 'horse', 'ship', 'truck')"
   ]
  },
  {
   "cell_type": "code",
   "execution_count": null,
   "metadata": {},
   "outputs": [],
   "source": [
    "# model architecture\n",
    "class resnet(nn.Module):\n",
    "  def __init__(self, num_cls):\n",
    "    super().__init__()\n",
    "    self.conv = nn.Sequential(*list(resnet18(weights=None).children())[:-2])\n",
    "    self.fc = nn.Linear(512, num_cls)\n",
    "\n",
    "  def forward(self, x):\n",
    "    x = self.conv(x)\n",
    "    x = torch.flatten(x, start_dim=1)\n",
    "    logits = self.fc(x)\n",
    "    return logits\n",
    "\n",
    "##############################################################################\n",
    "# Initialize model and move to device                                        #\n",
    "##############################################################################\n",
    "model = None\n",
    "\n",
    "################################ End #########################################"
   ]
  },
  {
   "cell_type": "code",
   "execution_count": null,
   "metadata": {},
   "outputs": [],
   "source": [
    "learning_rate = 0.01\n",
    "criterion = nn.CrossEntropyLoss()\n",
    "optimizer = optim.SGD(model.parameters(), lr=learning_rate, momentum=0.9)\n",
    "epochs = 100"
   ]
  },
  {
   "cell_type": "code",
   "execution_count": null,
   "metadata": {},
   "outputs": [],
   "source": [
    "##############################################################################\n",
    "# Implement train loop and log training loss after each epoch                #\n",
    "##############################################################################\n",
    "\n",
    "\n",
    "\n",
    "\n",
    "\n",
    "\n",
    "\n",
    "################################ End #########################################"
   ]
  },
  {
   "cell_type": "code",
   "execution_count": null,
   "metadata": {},
   "outputs": [],
   "source": [
    "##############################################################################\n",
    "# Evaluate the trained model on test set and print test accuracy             #\n",
    "##############################################################################\n",
    "\n",
    "\n",
    "\n",
    "\n",
    "\n",
    "\n",
    "\n",
    "################################ End #########################################"
   ]
  },
  {
   "cell_type": "code",
   "execution_count": null,
   "metadata": {},
   "outputs": [],
   "source": [
    "# Save model\n",
    "model.eval()\n",
    "model_name = \"resnet18_cifar10_model_pretrained.pth\"\n",
    "model_PATH = f\"{model_name}\"\n",
    "torch.save(model.state_dict(), model_PATH)"
   ]
  },
  {
   "cell_type": "markdown",
   "metadata": {},
   "source": [
    "## FGSM Attack using torchattacks (10 pts)"
   ]
  },
  {
   "cell_type": "markdown",
   "metadata": {},
   "source": [
    "In this section you should run FGSM attack using torchattacks library (https://adversarial-attacks-pytorch.readthedocs.io/en/latest/index.html).\n",
    "\n",
    "Run the attack for $\\epsilon \\in \\{\\frac{1}{255}, \\frac{4}{255}, \\frac{8}{255},\\}$ report the performance of the model on untargeted FGSM attack on the test data."
   ]
  },
  {
   "cell_type": "code",
   "execution_count": null,
   "metadata": {},
   "outputs": [],
   "source": [
    "##############################################################################\n",
    "# run untargeted FGSM attack for epsilon = 1/255 and report its accuracy     #\n",
    "##############################################################################\n",
    "\n",
    "\n",
    "\n",
    "\n",
    "\n",
    "\n",
    "\n",
    "################################ End #########################################"
   ]
  },
  {
   "cell_type": "code",
   "execution_count": null,
   "metadata": {},
   "outputs": [],
   "source": [
    "##############################################################################\n",
    "# run untargeted FGSM attack for epsilon = 4/255 and report its accuracy     #\n",
    "##############################################################################\n",
    "\n",
    "\n",
    "\n",
    "\n",
    "\n",
    "\n",
    "\n",
    "################################ End #########################################"
   ]
  },
  {
   "cell_type": "code",
   "execution_count": null,
   "metadata": {},
   "outputs": [],
   "source": [
    "##############################################################################\n",
    "# run untargeted FGSM attack for epsilon = 8/255 and report its accuracy     #\n",
    "##############################################################################\n",
    "\n",
    "\n",
    "\n",
    "\n",
    "\n",
    "\n",
    "\n",
    "################################ End #########################################"
   ]
  },
  {
   "cell_type": "markdown",
   "metadata": {},
   "source": [
    "## PGD Attack from scratch (30 pts)"
   ]
  },
  {
   "cell_type": "markdown",
   "metadata": {},
   "source": [
    "In this section you should implement PGD attack from scratch."
   ]
  },
  {
   "cell_type": "code",
   "execution_count": null,
   "metadata": {},
   "outputs": [],
   "source": [
    "class LinfPGDAttack(object):\n",
    "\n",
    "    def __init__(self, model, epsilon = 8/255, k = 2, alpha = 2/255):\n",
    "        self.model = model\n",
    "        self.epsilon = epsilon\n",
    "        self.steps = k\n",
    "        self.alpha = alpha\n",
    "\n",
    "    def __call__(self, image, label):\n",
    "\n",
    "        image = image.to(device)\n",
    "        label = label.to(device)\n",
    "\n",
    "        out = self.model(image)\n",
    "        _, pred = torch.max(out, 1)\n",
    "\n",
    "        perturbed_image = image.clone()\n",
    "        perturbed_image.to(device)\n",
    "        \n",
    "        if pred.item() == label.item():\n",
    "            ##############################################################################\n",
    "            # Implement a k step PGD attack of size alpha                                #\n",
    "            # while always staying within epsilon distance from the initial point        #\n",
    "            # Use cross entropy loss                                                     #\n",
    "            ##############################################################################\n",
    "        \n",
    "            pass # Your code goes here\n",
    "            \n",
    "            ################################ End #########################################\n",
    "        \n",
    "        return perturbed_image"
   ]
  },
  {
   "cell_type": "code",
   "execution_count": null,
   "metadata": {},
   "outputs": [],
   "source": [
    "##############################################################################\n",
    "# Evaluate PGD attack on the trained model with k=2,4,8                      #\n",
    "##############################################################################\n",
    "\n",
    "k_list = [2,4,8]\n",
    "\n",
    "##############################################################################\n",
    "\n",
    "# Your code goes here\n",
    "\n",
    "################################ End #########################################"
   ]
  },
  {
   "cell_type": "markdown",
   "metadata": {},
   "source": [
    "## Visualization (10 pts)"
   ]
  },
  {
   "cell_type": "markdown",
   "metadata": {},
   "source": [
    "Implement a function to plot the original image, the perturbed imaged and their predicted labels by the model"
   ]
  },
  {
   "cell_type": "code",
   "execution_count": null,
   "metadata": {},
   "outputs": [],
   "source": [
    "##############################################################################\n",
    "# Implement the function described                                           #\n",
    "##############################################################################\n",
    "\n",
    "\n",
    "\n",
    "\n",
    "\n",
    "\n",
    "\n",
    "################################ End #########################################"
   ]
  },
  {
   "cell_type": "code",
   "execution_count": null,
   "metadata": {},
   "outputs": [],
   "source": [
    "##############################################################################\n",
    "# Choose 3 random images from testset and run FGSM attack and visualize      #\n",
    "##############################################################################\n",
    "\n",
    "\n",
    "\n",
    "\n",
    "\n",
    "\n",
    "\n",
    "################################ End #########################################"
   ]
  },
  {
   "cell_type": "code",
   "execution_count": null,
   "metadata": {},
   "outputs": [],
   "source": [
    "##############################################################################\n",
    "# Choose 3 random images from testset and run PGD attack and visualize      #\n",
    "##############################################################################\n",
    "\n",
    "\n",
    "\n",
    "\n",
    "\n",
    "\n",
    "\n",
    "################################ End #########################################"
   ]
  },
  {
   "cell_type": "markdown",
   "metadata": {},
   "source": [
    "## Adversarial Training (35 pts)"
   ]
  },
  {
   "cell_type": "markdown",
   "metadata": {},
   "source": [
    "In this section you are going to adversarially train your model and see the results. "
   ]
  },
  {
   "cell_type": "code",
   "execution_count": null,
   "metadata": {},
   "outputs": [],
   "source": [
    "##############################################################################\n",
    "# Load a new resnet model for adversarial training                           #\n",
    "# Train the model on perturbed images from                                   #\n",
    "# untargeted FGSM attack with epsilon = 8/255 on train dataset               #\n",
    "# Also use the following setup for training the model                        #\n",
    "##############################################################################\n",
    "\n",
    "adv_model = None # Your code goes here\n",
    "adv_model.to(device)\n",
    "\n",
    "learning_rate = 0.01\n",
    "criterion = nn.CrossEntropyLoss()\n",
    "optimizer = optim.SGD(adv_model.parameters(), lr=learning_rate, momentum=0.9)\n",
    "epochs = 100\n",
    "\n",
    "\n",
    "# Your code goes here\n",
    "\n",
    "################################ End #########################################"
   ]
  },
  {
   "cell_type": "code",
   "execution_count": null,
   "metadata": {},
   "outputs": [],
   "source": [
    "##############################################################################\n",
    "# Evaluate the new model on the test dataset                                 #\n",
    "##############################################################################\n",
    "\n",
    "# Your code goes here\n",
    "\n",
    "################################ End #########################################"
   ]
  },
  {
   "cell_type": "code",
   "execution_count": null,
   "metadata": {},
   "outputs": [],
   "source": [
    "##############################################################################\n",
    "# Run FGSM attack on the adversarially trained model with epsilon = 8/255    #\n",
    "##############################################################################\n",
    "\n",
    "# Your code goes here\n",
    "\n",
    "################################ End #########################################"
   ]
  },
  {
   "cell_type": "code",
   "execution_count": null,
   "metadata": {},
   "outputs": [],
   "source": [
    "##############################################################################\n",
    "#  Run PGD attack on the adversarially trained model with k=4                #\n",
    "##############################################################################\n",
    "\n",
    "# Your code goes here\n",
    "\n",
    "################################ End #########################################"
   ]
  },
  {
   "cell_type": "markdown",
   "metadata": {},
   "source": [
    "Answer the following questions:\n",
    "- What happened to the accuracy of the adversarially trained model?\n",
    "- What do you conclude from the result of the FGSM attack on the adversarially trained model?\n",
    "- What do you conclude from the result of the PGD attack on the adversarially trained model?\n",
    "- What is you final conclusion?"
   ]
  }
 ],
 "metadata": {
  "language_info": {
   "name": "python"
  }
 },
 "nbformat": 4,
 "nbformat_minor": 2
}
